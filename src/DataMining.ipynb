{
  "nbformat": 4,
  "nbformat_minor": 0,
  "metadata": {
    "colab": {
      "provenance": []
    },
    "kernelspec": {
      "name": "python3",
      "display_name": "Python 3"
    },
    "language_info": {
      "name": "python"
    }
  },
  "cells": [
    {
      "cell_type": "code",
      "execution_count": null,
      "metadata": {
        "id": "YUPGprd3hmQh"
      },
      "outputs": [],
      "source": [
        "import pandas as pd\n",
        "from sklearn.tree import DecisionTreeClassifier\n",
        "from sklearn import datasets\n",
        "from sklearn.model_selection import train_test_split\n",
        "from sklearn import metrics\n",
        "from IPython.display import Image\n",
        "import matplotlib.pyplot as plt\n",
        "from sklearn import tree"
      ]
    },
    {
      "cell_type": "code",
      "source": [
        "f = pd.read_csv('Fact_Olympic.csv')"
      ],
      "metadata": {
        "id": "_NaENYkni3m_"
      },
      "execution_count": null,
      "outputs": []
    },
    {
      "cell_type": "markdown",
      "source": [
        "**Tiền xử lí**"
      ],
      "metadata": {
        "id": "VpE3Uqrri6Z-"
      }
    },
    {
      "cell_type": "code",
      "source": [
        "# Loại bỏ các dòng có giá trị medal_type bằng NaN\n",
        "df_clean = df.dropna(subset=['medal_type'])\n",
        "# Tạo dataframe mới chỉ chứa hai cột: country_id và medal_type\n",
        "df_medals = df_clean[['country_id', 'medal_type']]\n",
        "# Gom nhóm theo country_id và medal_type, đếm số lượng mỗi loại huy chương\n",
        "df_grouped = df_medals.groupby(['country_id',\n",
        "'medal_type']).size().unstack(fill_value=0)\n",
        "# Tạo dataframe mới với hai cột: country_id và medal_count\n",
        "df_medal_count = pd.DataFrame({'country_id': df_grouped.index,\n",
        "'medal_count': df_grouped.sum(axis=1)})\n",
        "labels = ['Low', 'Medium', 'High']\n",
        "df_medal_count['label'] = pd.qcut(df_medal_count['medal_count'],\n",
        "len(labels), labels=labels)\n",
        "# Chia dữ liệu thành input features (X) và target variable (y)\n",
        "X = df_medal_count[['medal_count']]\n",
        "y = df_medal_count['label']\n",
        "# Chia dữ liệu thành tập train và tập test\n",
        "X_train, X_test, y_train, y_test = train_test_split(X, y, test_size=0.2,\n",
        "random_state=42)\n",
        "# Tạo một đối tượng DecisionTreeClassifier\n",
        "model = DecisionTreeClassifier()\n",
        "# Huấn luyện mô hình trên tập train\n",
        "model.fit(X_train, y_train)\n",
        "# Đánh giá mô hình trên tập test\n",
        "accuracy = model.score(X_test, y_test)\n",
        "print(\"Độ chính xác của mô hình: \", accuracy)\n"
      ],
      "metadata": {
        "id": "3eqpPFKTi5at"
      },
      "execution_count": null,
      "outputs": []
    },
    {
      "cell_type": "code",
      "source": [
        "# Đếm số quốc gia trong mỗi nhóm\n",
        "• group_counts = df_medal_count['label'].value_counts()\n",
        "group_counts = df_medal_count['label'].value_counts()\n",
        "# Tạo biểu đồ cột\n",
        "plt.figure(figsize=(8, 6))\n",
        "plt.bar(group_counts.index, group_counts.values)\n",
        "# Đặt tiêu đề và nhãn cho biểu đồ\n",
        "plt.title('Phân loại quốc gia theo số lượng huy chương')\n",
        "plt.xlabel('Nhóm')\n",
        "plt.ylabel('Số lượng quốc gia')\n",
        "Hiển thị biểu đồ\n",
        "plt.show()"
      ],
      "metadata": {
        "id": "CFq58dBajKyi"
      },
      "execution_count": null,
      "outputs": []
    },
    {
      "cell_type": "code",
      "source": [
        "# Lọc dữ liệu theo nhóm 'Low'\n",
        "df_low = df_medal_count[df_medal_count['label'] == 'Low']\n",
        "print(\"Quốc gia trong nhóm 'Low':\")\n",
        "print(df_low['country_id'])\n",
        "# Lọc dữ liệu theo nhóm 'Medium'\n",
        "df_medium = df_medal_count[df_medal_count['label'] == 'Medium']\n",
        "print(\"Quốc gia trong nhóm 'Medium':\")\n",
        "print(df_medium['country_id'])\n",
        "# Lọc dữ liệu theo nhóm 'High'\n",
        "df_high = df_medal_count[df_medal_count['label'] == 'High']\n",
        "print(\"Quốc gia trong nhóm 'High':\")\n",
        "print(df_high['country_id'])"
      ],
      "metadata": {
        "id": "fXPaSpXdkByu"
      },
      "execution_count": null,
      "outputs": []
    },
    {
      "cell_type": "markdown",
      "source": [
        "**Random Forest**"
      ],
      "metadata": {
        "id": "QqcG1jSykNhZ"
      }
    },
    {
      "cell_type": "code",
      "source": [
        "import pandas as pd\n",
        "from sklearn.ensemble import RandomForestClassifier\n",
        "from sklearn import datasets\n",
        "from sklearn.model_selection import train_test_split\n",
        "from sklearn import metrics\n",
        "import pydotplus\n",
        "from IPython.display import Image\n",
        "import matplotlib.pyplot as plt"
      ],
      "metadata": {
        "id": "DFkZLCDPkSeH"
      },
      "execution_count": null,
      "outputs": []
    },
    {
      "cell_type": "code",
      "source": [
        "# Tạo một đối tượng Random Forest Classifier\n",
        "model = RandomForestClassifier()\n",
        "# Huấn luyện mô hình trên tập train\n",
        "model.fit(X_train, y_train)\n",
        "# Đánh giá mô hình trên tập test\n",
        "accuracy = model.score(X_test, y_test)\n",
        "print(\"Độ chính xác của mô hình: \", accuracy)"
      ],
      "metadata": {
        "id": "mx5z0iFpkcdm"
      },
      "execution_count": null,
      "outputs": []
    }
  ]
}